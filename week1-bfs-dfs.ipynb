{
 "cells": [
  {
   "cell_type": "code",
   "execution_count": 1,
   "metadata": {},
   "outputs": [],
   "source": [
    "import re\n",
    "import requests\n",
    "import numpy as np\n",
    "import json"
   ]
  },
  {
   "cell_type": "code",
   "execution_count": 2,
   "metadata": {},
   "outputs": [],
   "source": [
    "r = requests.get('http://map.amap.com/service/subway?_1469083453978&srhdata=1100_drw_beijing.json')\n",
    "r_json = json.loads(r.text)\n",
    "#第一层包含：地铁名称's','i',线路列表'l','o'\n",
    "#线路列表\n",
    "#print(r_json['l'])\n",
    "\n",
    "#第二层线路列表包含：站列表'st',线路简称'ln','su',线路全称'kn','c',环路标记'lo','lp','f','ls','cl','la','x','li'\n",
    "#线路1名称\n",
    "#line_1 = r_json['l'][0]\n",
    "#print(line_1['ln'])\n",
    "\n",
    "#第三层站列表包含：'rs','udpx','su','udsu',站名称'n','sid','p','r','udsi','t','si',经纬度'sl','udli','poiid','lg',站名称拼音'sp'\n",
    "#print(r_json['l'][0]['st'][0])\n",
    "\n",
    "#线路1上的站名称\n",
    "#line_1_station_name_list = ','.join(i['n'] for i in line_1['st'])\n",
    "#print(\"线路'{}'上的站名称:{}\".format(line_1['kn'],line_1_station_name_list))\n",
    "#[[r_json['l'][i]['ln'],r_json['l'][i]['lo']] for i in range(len(r_json['l']))]"
   ]
  },
  {
   "cell_type": "code",
   "execution_count": 3,
   "metadata": {},
   "outputs": [],
   "source": [
    "def get_lines_stations_info(text):\n",
    "    # 请在这里写上你的代码\n",
    "    pass\n",
    "    obj = json.loads(text)   \n",
    "    # 遍历text格式数据，组成地点数据结构\n",
    "    # 所有线路信息的dict：key：线路名称；value：站点名称list\n",
    "    lines_info = {}    \n",
    "    # 所有站点信息的dict：key：站点名称；value：站点坐标(x,y)\n",
    "    stations_info = {}\n",
    "    #for i in range(len(lines_list)):\n",
    "        # 你可能需要思考的几个问题，获取「地铁线路名称，站点信息list，站名，坐标(x,y)，数据加入站点的信息dict，将数据加入地铁线路dict」\n",
    "    pass\n",
    "    for line in obj['l']:\n",
    "        line_name = line['kn']\n",
    "        lines_info[line_name] = [i['n'] for i in line['st']]\n",
    "        for i in line['st']:\n",
    "            x_y = re.findall(\"(\\d+.\\d+),(\\d+.\\d+)\",i['sl'])[0]\n",
    "            stations_info[i['n']] = tuple(map(float,x_y))\n",
    "    #环路\n",
    "    lines_info['地铁10号线'].append(\"巴沟\")\n",
    "    lines_info['地铁2号线'].append('积水潭')\n",
    "    return lines_info, stations_info\n",
    "\n",
    "lines_info, stations_info = get_lines_stations_info(r.text)\n",
    "#lines_info"
   ]
  },
  {
   "cell_type": "code",
   "execution_count": 4,
   "metadata": {},
   "outputs": [],
   "source": [
    "#stations_info"
   ]
  },
  {
   "cell_type": "code",
   "execution_count": 5,
   "metadata": {},
   "outputs": [],
   "source": [
    "from collections import defaultdict\n",
    "# 根据线路信息，建立站点邻接表dict\n",
    "def get_neighbor_info(lines_info):\n",
    "    pass\n",
    "    # 把str2加入str1站点的邻接表中\n",
    "    def add_neighbor_dict(info, str1, str2):\n",
    "        # 请在这里写代码\n",
    "        pass\n",
    "        info[str1].append(str2) \n",
    "    \n",
    "    neighbor_info = defaultdict(list)\n",
    "    for station_list in lines_info.values():\n",
    "        for i in range(len(station_list)):\n",
    "            station = station_list[i]\n",
    "            if i == 0:\n",
    "                add_neighbor_dict(neighbor_info,station,station_list[i+1])\n",
    "            elif i == len(station_list)-1:\n",
    "                add_neighbor_dict(neighbor_info,station,station_list[i-1])\n",
    "            else:\n",
    "                add_neighbor_dict(neighbor_info,station,station_list[i-1])\n",
    "                add_neighbor_dict(neighbor_info,station,station_list[i+1])\n",
    "    return neighbor_info\n",
    "        \n",
    "neighbor_info = get_neighbor_info(lines_info)\n",
    "#neighbor_info"
   ]
  },
  {
   "cell_type": "code",
   "execution_count": 6,
   "metadata": {},
   "outputs": [
    {
     "data": {
      "text/plain": [
       "<Figure size 3000x2000 with 1 Axes>"
      ]
     },
     "metadata": {},
     "output_type": "display_data"
    }
   ],
   "source": [
    "# 画地铁图\n",
    "import networkx as nx\n",
    "import matplotlib.pyplot as plt,mpld3\n",
    "\n",
    "# 如果汉字无法显示，请参照\n",
    "plt.rcParams['font.sans-serif'] = ['SimHei'] \n",
    "plt.rcParams['font.family']='sans-serif'\n",
    "plt.figure(figsize=(30, 20))#画布大小\n",
    "station_connection_graph = nx.Graph(neighbor_info)\n",
    "colors = range(len(list(station_connection_graph.edges)))\n",
    "#edges = nx.draw_networkx_edges(station_connection_graph,stations_info,edge_color=colors,width=2)\n",
    "#plt.colorbar(edges)\n",
    "nx.draw_networkx(station_connection_graph,stations_info,with_labels=True,node_size=10,font_size=8)\n",
    "plt.show()"
   ]
  },
  {
   "cell_type": "code",
   "execution_count": 7,
   "metadata": {},
   "outputs": [],
   "source": [
    "def check_station_name(station):\n",
    "    if station not in stations_info:\n",
    "        return stations_info\n",
    "    return True\n",
    "#print(check_station_name('前门'))"
   ]
  },
  {
   "cell_type": "code",
   "execution_count": 8,
   "metadata": {},
   "outputs": [],
   "source": [
    "#获取站点直线距离\n",
    "def get_distance(stations_info,current_station,to_station):\n",
    "    current_x_y = stations_info[current_station]\n",
    "    to_x_y = stations_info[to_station]\n",
    "    return geo_distance(current_x_y,to_x_y)\n",
    "#get_distance(stations_info,'前门','中关村')"
   ]
  },
  {
   "cell_type": "code",
   "execution_count": 9,
   "metadata": {},
   "outputs": [],
   "source": [
    "#获取站点所在线路\n",
    "def get_lines_by_station(lines_info,station):\n",
    "    lines = []\n",
    "    for line in lines_info:\n",
    "        if station in lines_info[line]:\n",
    "            lines.append(line)\n",
    "    return lines\n",
    "#get_lines_by_station(lines_info,'中关村')"
   ]
  },
  {
   "cell_type": "code",
   "execution_count": 10,
   "metadata": {},
   "outputs": [],
   "source": [
    "from collections import defaultdict\n",
    "#获取换乘站\n",
    "def get_crossLine_station(lines_info):\n",
    "    station_in_lines = defaultdict(list) \n",
    "    crossLine_station = defaultdict(list) \n",
    "    for line in lines_info:\n",
    "        line_station_list = lines_info[line]\n",
    "        for station in lines_info[line]:\n",
    "            station_in_lines[station].append(line)\n",
    "    for station in station_in_lines:\n",
    "        if len(station_in_lines[station])>1:\n",
    "            crossLine_station[station] = station_in_lines[station]\n",
    "    return crossLine_station\n",
    "crossLine_station = get_crossLine_station(lines_info)\n",
    "#crossLine_station"
   ]
  },
  {
   "cell_type": "code",
   "execution_count": 11,
   "metadata": {},
   "outputs": [],
   "source": [
    "#获取交叉线路\n",
    "def get_crossLine(lines_info):\n",
    "    crossLine_station = get_crossLine_station(lines_info)\n",
    "    crossLine = defaultdict(list)\n",
    "    for line in lines_info:\n",
    "        temp = set()\n",
    "        for station in crossLine_station:\n",
    "            if line in crossLine_station[station]:\n",
    "                for i in range(len(crossLine_station[station])):\n",
    "                    if line == crossLine_station[station][i]: continue\n",
    "                    temp.add(crossLine_station[station][i])\n",
    "        crossLine[line]=list(temp)\n",
    "    return crossLine\n",
    "#get_crossLine(lines_info)"
   ]
  },
  {
   "cell_type": "code",
   "execution_count": 12,
   "metadata": {},
   "outputs": [],
   "source": [
    "def get_next_station_DFS_ALL(node, neighbor_info, to_station):\n",
    "    pass\n",
    "    neighbors = neighbor_info[to_station]\n",
    "    smallest_index = node.index(to_station)\n",
    "    for neighbor in neighbors:\n",
    "        smallest_index = min(smallest_index,node.index(neighbor))\n",
    "    return node[smallest_index]\n",
    "#get_next_station_DFS_ALL(path_All,neighbor_info,'中关村')"
   ]
  },
  {
   "cell_type": "code",
   "execution_count": 13,
   "metadata": {},
   "outputs": [
    {
     "name": "stdout",
     "output_type": "stream",
     "text": [
      "DFS_ALL:\n"
     ]
    },
    {
     "data": {
      "text/plain": [
       "['前门',\n",
       " '和平门',\n",
       " '宣武门',\n",
       " '西单',\n",
       " '灵境胡同',\n",
       " '西四',\n",
       " '平安里',\n",
       " '车公庄',\n",
       " '车公庄西',\n",
       " '白石桥南',\n",
       " '国家图书馆',\n",
       " '魏公村',\n",
       " '人民大学',\n",
       " '海淀黄庄',\n",
       " '中关村']"
      ]
     },
     "execution_count": 13,
     "metadata": {},
     "output_type": "execute_result"
    }
   ],
   "source": [
    "# 你可以用递归查找所有路径\n",
    "def get_path_DFS_ALL(lines_info, neighbor_info, from_station, to_station):\n",
    "    # 递归算法，本质上是深度优先\n",
    "    # 遍历所有路径\n",
    "    # 这种情况下，站点间的坐标距离难以转化为可靠的启发函数，所以只用简单的BFS算法\n",
    "    # 检查输入站点名称\n",
    "    pass\n",
    "    if check_station_name(from_station)==None or check_station_name(to_station)==None:\n",
    "        return\n",
    "    stack_node = [from_station]\n",
    "    visited = set()\n",
    "    node = []\n",
    "    path = []\n",
    "    while stack_node:\n",
    "        current = stack_node.pop(-1)\n",
    "        if current not in visited:node.append(current)\n",
    "        visited.add(current)\n",
    "        neighbors = neighbor_info[current]\n",
    "        for neighbor in neighbors:\n",
    "            if neighbor in visited:continue\n",
    "            stack_node.append(neighbor)\n",
    "    #从终点站逆推\n",
    "    recursion_station = to_station\n",
    "    while recursion_station != from_station:\n",
    "        path=[recursion_station]+path\n",
    "        recursion_station = get_next_station_DFS_ALL(node,neighbor_info,recursion_station)\n",
    "    return [from_station]+path\n",
    "print('DFS_ALL:')\n",
    "get_path_DFS_ALL(lines_info,neighbor_info,'前门','中关村')"
   ]
  },
  {
   "cell_type": "code",
   "execution_count": 14,
   "metadata": {},
   "outputs": [],
   "source": [
    "#不遍历，遇到终点马上输出路线\n",
    "def get_path_DFS(neighbor_info,from_station,to_station):\n",
    "    stack_node = [from_station]\n",
    "    visited = set()\n",
    "    path = []\n",
    "    while stack:\n",
    "        current = stack.pop(-1)\n",
    "        visited.add(current)\n",
    "        path.append(current)\n",
    "        neighbors = neighbor_info[current]\n",
    "        for neighbor in neighbors:\n",
    "            if neighbor in visited:continue\n",
    "            if neighbor == to_station:\n",
    "                path.append(to_station)\n",
    "                return path\n",
    "            stack = stack+[neighbor]"
   ]
  },
  {
   "cell_type": "code",
   "execution_count": 15,
   "metadata": {},
   "outputs": [],
   "source": [
    "#get_path_DFS(neighbor_info,'石门','燕山')"
   ]
  },
  {
   "cell_type": "code",
   "execution_count": 16,
   "metadata": {},
   "outputs": [
    {
     "name": "stdout",
     "output_type": "stream",
     "text": [
      "BFS:\n"
     ]
    },
    {
     "data": {
      "text/plain": [
       "['前门',\n",
       " '和平门',\n",
       " '宣武门',\n",
       " '长椿街',\n",
       " '复兴门',\n",
       " '阜成门',\n",
       " '车公庄',\n",
       " '西直门',\n",
       " '大钟寺',\n",
       " '知春路',\n",
       " '知春里',\n",
       " '海淀黄庄',\n",
       " '中关村']"
      ]
     },
     "execution_count": 16,
     "metadata": {},
     "output_type": "execute_result"
    }
   ],
   "source": [
    "#  你也可以使用第二种算法：没有启发函数的简单宽度优先\n",
    "\n",
    "def get_path_BFS(lines_info, neighbor_info,stations_info, from_station, to_station):\n",
    "    # 搜索策略：以站点数量为cost（因为车票价格是按站算的）\n",
    "    # 这种情况下，站点间的坐标距离难以转化为可靠的启发函数，所以只用简单的BFS算法\n",
    "    # 由于每深一层就是cost加1，所以每层的cost都相同，算和不算没区别，所以省略\n",
    "    # 检查输入站点名称\n",
    "    pass\n",
    "    if check_station_name(from_station)==None or check_station_name(to_station)==None:\n",
    "        return\n",
    "    queue_path = [[from_station]]\n",
    "    #visited是关键，若某一探索线路的下一站已经在visited中，\n",
    "    #说明之前的探索线路已经到达，而且层数比它还小，因此舍弃这条线路，迅速减少stack_path规模\n",
    "    visited = set()\n",
    "    while queue_path:\n",
    "        path = queue_path.pop(0)\n",
    "        node = path[-1]\n",
    "        neighbors = neighbor_info[node]\n",
    "        for neighbor in neighbors:\n",
    "            if neighbor in path or neighbor in visited:continue\n",
    "            if neighbor==to_station:\n",
    "                return path+[neighbor]\n",
    "            queue_path.append(path+[neighbor])\n",
    "            visited.add(neighbor)\n",
    "print('BFS:')\n",
    "get_path_BFS(lines_info,neighbor_info,stations_info,'前门','中关村')"
   ]
  },
  {
   "cell_type": "code",
   "execution_count": 17,
   "metadata": {},
   "outputs": [],
   "source": [
    "#任选某一起点，寻找最深层数的站点及其路径\n",
    "def get_deapest_station(neighbor_info, from_station):\n",
    "    pass\n",
    "    stack_path = [[from_station]]\n",
    "    path = []\n",
    "    #visited是关键，若某一探索线路的下一站已经在visited中，\n",
    "    #说明之前的探索线路已经到达，而且层数比它还小，因此舍弃这条线路，迅速减少stack_path规模\n",
    "    visited = set()\n",
    "    while stack_path:\n",
    "        path = stack_path.pop(0)\n",
    "        node = path[-1]\n",
    "        neighbors = neighbor_info[node]\n",
    "        for neighbor in neighbors:\n",
    "            if neighbor in path or neighbor in visited:continue\n",
    "            stack_path.append(path+[neighbor])\n",
    "            visited.add(neighbor)\n",
    "    return path\n",
    "#get_path_BFS_ALL(neighbor_info,'八宝山')"
   ]
  },
  {
   "cell_type": "code",
   "execution_count": 18,
   "metadata": {},
   "outputs": [],
   "source": [
    "import math\n",
    "\n",
    "def geo_distance(origin, destination):\n",
    "    lat1, lon1 = origin\n",
    "    lat2, lon2 = destination\n",
    "    radius = 6371  # km\n",
    "\n",
    "    dlat = math.radians(lat2 - lat1)\n",
    "    dlon = math.radians(lon2 - lon1)\n",
    "    a = (math.sin(dlat / 2) * math.sin(dlat / 2) +\n",
    "         math.cos(math.radians(lat1)) * math.cos(math.radians(lat2)) *\n",
    "         math.sin(dlon / 2) * math.sin(dlon / 2))\n",
    "    c = 2 * math.atan2(math.sqrt(a), math.sqrt(1 - a))\n",
    "    d = radius * c\n",
    "\n",
    "    return d"
   ]
  },
  {
   "cell_type": "code",
   "execution_count": 19,
   "metadata": {},
   "outputs": [],
   "source": [
    "def get_next_station(came_from,to_station):\n",
    "    return came_from[to_station]\n",
    "def priority_Astar(stations_info,neighbor,to_station):\n",
    "    return get_distance(stations_info,neighbor,to_station)"
   ]
  },
  {
   "cell_type": "code",
   "execution_count": 20,
   "metadata": {},
   "outputs": [
    {
     "name": "stdout",
     "output_type": "stream",
     "text": [
      "Astar:\n"
     ]
    },
    {
     "data": {
      "text/plain": [
       "['前门',\n",
       " '和平门',\n",
       " '宣武门',\n",
       " '长椿街',\n",
       " '复兴门',\n",
       " '阜成门',\n",
       " '车公庄',\n",
       " '车公庄西',\n",
       " '白石桥南',\n",
       " '国家图书馆',\n",
       " '魏公村',\n",
       " '人民大学',\n",
       " '海淀黄庄',\n",
       " '中关村']"
      ]
     },
     "execution_count": 20,
     "metadata": {},
     "output_type": "execute_result"
    }
   ],
   "source": [
    "# 你还可以用第三种算法：以路径路程为cost的启发式搜索\n",
    "from queue import PriorityQueue\n",
    "import pandas as pd\n",
    "def get_path_Astar(lines_info, neighbor_info, stations_info, from_station, to_station):\n",
    "    # 搜索策略：以路径的站点间直线距离累加为cost，以当前站点到目标的直线距离为启发函数\n",
    "    # 检查输入站点名称\n",
    "    pass\n",
    "    if check_station_name(from_station)==None or check_station_name(to_station)==None:\n",
    "        return\n",
    "    #记录遍历站点\n",
    "    frontier = PriorityQueue()\n",
    "    frontier.put((0,from_station))\n",
    "    #记录站点（如A）对应上一站的名称。如果current站点的下一站为A，且累计cost比A当前的上一站cost少，更新current站点为站A的上一站。\n",
    "    came_from = {}\n",
    "    came_from[from_station]=from_station\n",
    "    #记录站点（如A）累计cost。\n",
    "    cost = {}\n",
    "    cost[from_station]=0\n",
    "    while frontier:\n",
    "        current_station = frontier.get()[1]\n",
    "        if current_station == to_station:\n",
    "            pre_station = to_station\n",
    "            full_path = [to_station]\n",
    "            while pre_station!=from_station:\n",
    "                pre_station = get_next_station(came_from,pre_station)\n",
    "                full_path = [pre_station]+full_path\n",
    "            return full_path\n",
    "        neighbors = neighbor_info[current_station]\n",
    "        for neighbor in neighbors:\n",
    "            #从cost[current_station]获取当前站点累计cost，再加上当前站点到邻接点的距离，获得邻接点的新累计cost。\n",
    "            new_cost = get_distance(stations_info,current_station,neighbor)+cost[current_station]\n",
    "            #如果cost中没有该邻接点，说明第一次到达。如果有，比较此次新cost与之前的累计cost的大小，小的话，替换邻接点的上一站为current站，并更新cost。\n",
    "            if neighbor not in cost or cost[neighbor]>new_cost:\n",
    "                cost[neighbor] = new_cost\n",
    "                came_from[neighbor] = current_station\n",
    "                priority = priority_Astar(stations_info,neighbor,to_station)\n",
    "                frontier.put((priority,neighbor))\n",
    "print('Astar:')\n",
    "get_path_Astar(lines_info,neighbor_info,stations_info,'前门','中关村')"
   ]
  },
  {
   "cell_type": "code",
   "execution_count": 21,
   "metadata": {},
   "outputs": [
    {
     "name": "stdout",
     "output_type": "stream",
     "text": [
      "Shortest_Path:\n"
     ]
    },
    {
     "data": {
      "text/plain": [
       "['前门',\n",
       " '和平门',\n",
       " '宣武门',\n",
       " '西单',\n",
       " '灵境胡同',\n",
       " '西四',\n",
       " '平安里',\n",
       " '新街口',\n",
       " '西直门',\n",
       " '大钟寺',\n",
       " '知春路',\n",
       " '知春里',\n",
       " '海淀黄庄',\n",
       " '中关村']"
      ]
     },
     "execution_count": 21,
     "metadata": {},
     "output_type": "execute_result"
    }
   ],
   "source": [
    "def get_path_Shortest_Path(lines_info,neighbor_info, stations_info, from_station, to_station):\n",
    "    # 检查输入站点名称\n",
    "    pass\n",
    "    if check_station_name(from_station)==None or check_station_name(to_station)==None:\n",
    "        return\n",
    "    #记录遍历站点\n",
    "    frontier = PriorityQueue()\n",
    "    frontier.put((0,from_station))\n",
    "    #记录站点（如A）对应上一站的名称。如果current站点的下一站为A，且累计cost比A当前的上一站cost少，更新current站点为站A的上一站。\n",
    "    came_from = {}\n",
    "    came_from[from_station]=from_station\n",
    "    #记录站点（如A）累计cost。\n",
    "    cost = {}\n",
    "    cost[from_station]=0\n",
    "    while frontier:\n",
    "        current_station = frontier.get()[1]\n",
    "        if current_station == to_station:\n",
    "            pre_station = to_station\n",
    "            full_path = [to_station]\n",
    "            while pre_station!=from_station:\n",
    "                pre_station = get_next_station(came_from,pre_station)\n",
    "                full_path = [pre_station]+full_path\n",
    "            return full_path\n",
    "        neighbors = neighbor_info[current_station]\n",
    "        for neighbor in neighbors:\n",
    "            #从cost[current_station]获取当前站点累计cost，再加上当前站点到邻接点的距离，获得邻接点的新累计cost。\n",
    "            new_cost = get_distance(stations_info,current_station,neighbor)+cost[current_station]\n",
    "            #根据不同策略调整priority值\n",
    "            if neighbor not in cost or cost[neighbor]>new_cost:\n",
    "                cost[neighbor] = new_cost\n",
    "                came_from[neighbor] = current_station\n",
    "                priority = get_distance(stations_info,current_station,neighbor)\n",
    "                frontier.put((priority,neighbor))\n",
    "print('Shortest_Path:')\n",
    "get_path_Shortest_Path(lines_info,neighbor_info,stations_info,'前门','中关村')"
   ]
  },
  {
   "cell_type": "code",
   "execution_count": 22,
   "metadata": {},
   "outputs": [],
   "source": [
    "def is_exchange_station(lines_info,pre_station,current_station,neighbor):\n",
    "    lines_pre_station = get_lines_by_station(lines_info,pre_station)\n",
    "    lines_current_station = get_lines_by_station(lines_info,current_station)\n",
    "    lines_neighbor = get_lines_by_station(lines_info,neighbor)\n",
    "    line_from = set(lines_pre_station)&set(lines_current_station)\n",
    "    line_to=set(lines_current_station)&set(lines_neighbor)\n",
    "    return 0 if line_from == line_to else 1"
   ]
  },
  {
   "cell_type": "code",
   "execution_count": 23,
   "metadata": {},
   "outputs": [
    {
     "name": "stdout",
     "output_type": "stream",
     "text": [
      "Minimum_Transfer_Path:\n"
     ]
    },
    {
     "data": {
      "text/plain": [
       "['前门',\n",
       " '和平门',\n",
       " '宣武门',\n",
       " '长椿街',\n",
       " '复兴门',\n",
       " '阜成门',\n",
       " '车公庄',\n",
       " '西直门',\n",
       " '动物园',\n",
       " '国家图书馆',\n",
       " '魏公村',\n",
       " '人民大学',\n",
       " '海淀黄庄',\n",
       " '中关村']"
      ]
     },
     "execution_count": 23,
     "metadata": {},
     "output_type": "execute_result"
    }
   ],
   "source": [
    "def get_path_Minimum_Transfer(lines_info,neighbor_info, stations_info, from_station, to_station):\n",
    "    # 检查输入站点名称\n",
    "    pass\n",
    "    if check_station_name(from_station)==None or check_station_name(to_station)==None:\n",
    "        return\n",
    "    #记录遍历站点\n",
    "    frontier = PriorityQueue()\n",
    "    frontier.put((0,from_station))\n",
    "    #记录站点（如A）对应上一站的名称。如果current站点的下一站为A，且累计cost比A当前的上一站cost少，更新current站点为站A的上一站。\n",
    "    came_from = {}\n",
    "    came_from[from_station]=from_station\n",
    "    #记录站点（如A）累计cost。\n",
    "    cost = {}\n",
    "    cost[from_station]=0\n",
    "    while frontier:\n",
    "        current_station = frontier.get()[1]\n",
    "        if current_station == to_station:\n",
    "            pre_station = to_station\n",
    "            full_path = [to_station]\n",
    "            while pre_station!=from_station:\n",
    "                pre_station = get_next_station(came_from,pre_station)\n",
    "                full_path = [pre_station]+full_path\n",
    "            return full_path\n",
    "        neighbors = neighbor_info[current_station]\n",
    "        for neighbor in neighbors:\n",
    "            #从cost[current_station]获取当前站点累计cost，再加上当前站点到邻接点的距离，获得邻接点的新累计cost。\n",
    "            new_cost = is_exchange_station(lines_info,came_from[current_station],current_station,neighbor)+cost[current_station]\n",
    "            #根据不同策略调整priority值\n",
    "            if neighbor not in cost or cost[neighbor]>new_cost:\n",
    "                cost[neighbor] = new_cost\n",
    "                came_from[neighbor] = current_station\n",
    "                priority = is_exchange_station(lines_info,came_from[current_station],current_station,neighbor)\n",
    "                frontier.put((priority,neighbor))\n",
    "print('Minimum_Transfer_Path:')\n",
    "get_path_Minimum_Transfer(lines_info,neighbor_info,stations_info,'前门','中关村')"
   ]
  },
  {
   "cell_type": "code",
   "execution_count": 88,
   "metadata": {},
   "outputs": [],
   "source": [
    "#Astar和Shortest都运用了贪心算法和Dijkstra算法思想，但缺点是只能应用于每一站的cost值是固定的，若下一站的cost与前一站的路径有关，则不能应用。\n",
    "def get_path_Comprehensive1(lines_info,neighbor_info, stations_info, from_station, to_station):\n",
    "    # 检查输入站点名称\n",
    "    pass\n",
    "    if check_station_name(from_station)==None or check_station_name(to_station)==None:\n",
    "        return\n",
    "    #记录遍历站点\n",
    "    frontier = PriorityQueue()\n",
    "    frontier.put((0,[from_station]))\n",
    "    while frontier:\n",
    "        current = frontier.get()\n",
    "        cost = current[0]\n",
    "        current_station = current[1][-1]\n",
    "        if current_station == to_station:\n",
    "            return current[1]\n",
    "        neighbors = neighbor_info[current_station]\n",
    "        #从cost[current_station]获取当前站点累计cost，再加上当前站点到邻接点的距离，获得邻接点的新累计cost。\n",
    "        for neighbor in neighbors:\n",
    "            pathes = current[1].copy()\n",
    "            if neighbor in pathes:continue\n",
    "            distance_cost = get_distance(stations_info,current_station,neighbor)\n",
    "            exchange_cost = 0\n",
    "            if len(pathes) > 1:\n",
    "                exchange_cost = is_exchange_station(lines_info,pathes[-2],current_station,neighbor)\n",
    "            new_cost = distance_cost+cost+exchange_cost\n",
    "            pathes.append(neighbor)\n",
    "            frontier.put((new_cost,pathes))"
   ]
  },
  {
   "cell_type": "code",
   "execution_count": 121,
   "metadata": {},
   "outputs": [
    {
     "name": "stdout",
     "output_type": "stream",
     "text": [
      "Comprehensive_Path:\n"
     ]
    },
    {
     "data": {
      "text/plain": [
       "['奥体中心',\n",
       " '北土城',\n",
       " '安华桥',\n",
       " '安德里北街',\n",
       " '鼓楼大街',\n",
       " '什刹海',\n",
       " '南锣鼓巷',\n",
       " '东四',\n",
       " '灯市口',\n",
       " '东单',\n",
       " '王府井',\n",
       " '天安门东']"
      ]
     },
     "execution_count": 121,
     "metadata": {},
     "output_type": "execute_result"
    }
   ],
   "source": [
    "print('Comprehensive_Path:')\n",
    "get_path_Comprehensive(lines_info,neighbor_info,stations_info,'奥体中心', '天安门东')"
   ]
  },
  {
   "cell_type": "code",
   "execution_count": null,
   "metadata": {},
   "outputs": [],
   "source": [
    "def get_path_Comprehensive2(lines_info,neighbor_info, stations_info, from_station, to_station):\n",
    "    # 检查输入站点名称\n",
    "    pass\n",
    "    if check_station_name(from_station)==None or check_station_name(to_station)==None:\n",
    "        return\n",
    "    #记录遍历站点\n",
    "    frontier = PriorityQueue()\n",
    "    frontier.put((0,[from_station]))\n",
    "    node_cost = {}\n",
    "    node_cost[from_station] = [[0,from_station,from_station,from_station]]\n",
    "    while frontier:\n",
    "        current = frontier.get()\n",
    "        cost = current[0]\n",
    "        current_station = current[1][-1]\n",
    "        if current_station == to_station:\n",
    "            return current[1]\n",
    "        neighbors = neighbor_info[current_station]\n",
    "        #从cost[current_station]获取当前站点累计cost，再加上当前站点到邻接点的距离，获得邻接点的新累计cost。\n",
    "        for neighbor in neighbors:\n",
    "            pathes = current[1].copy()\n",
    "            if neighbor in pathes:continue\n",
    "            distance_cost = get_distance(stations_info,current_station,neighbor)\n",
    "            exchange_cost = 0\n",
    "            if len(pathes) > 1:\n",
    "                exchange_cost = is_exchange_station(lines_info,pathes[-2],current_station,neighbor)\n",
    "            new_cost = distance_cost+cost+exchange_cost\n",
    "            pathes.append(neighbor)\n",
    "            frontier.put((new_cost,pathes))"
   ]
  },
  {
   "cell_type": "code",
   "execution_count": 112,
   "metadata": {},
   "outputs": [],
   "source": [
    "def path_distance(path):\n",
    "    value = 0\n",
    "    for i in range(len(path)-1):\n",
    "        value+=get_distance(stations_info,path[i],path[i+1])\n",
    "    return value\n",
    "def path_transfer_num(path):\n",
    "    value = 0\n",
    "    path.append(path[-1])\n",
    "    for i in range(len(path)-2):\n",
    "        value+=is_exchange_station(lines_info,path[i],path[i+1],path[i+2])\n",
    "    path.pop(-1)\n",
    "    return value\n",
    "def path_station_num(path):\n",
    "    return len(path)\n",
    "def collection_dict(path,strategy_name,show_path=False):\n",
    "    value = {}\n",
    "    value['strategy_name'] = strategy_name\n",
    "    value['distance'] = path_distance(path)\n",
    "    value['transfer_num'] = path_transfer_num(path)\n",
    "    value['station_num'] = path_station_num(path)\n",
    "    if show_path:\n",
    "        value['path'] = path\n",
    "    return value"
   ]
  },
  {
   "cell_type": "code",
   "execution_count": 115,
   "metadata": {},
   "outputs": [],
   "source": [
    "def get_path_collection(lines_info,neighbor_info, stations_info, from_station, to_station):\n",
    "    if check_station_name(from_station)==None or check_station_name(to_station)==None:\n",
    "        return\n",
    "    path_BFS = get_path_BFS(lines_info,neighbor_info, stations_info, from_station, to_station)\n",
    "    path_Astar = get_path_Astar(lines_info,neighbor_info, stations_info, from_station, to_station)\n",
    "    path_Shortest_Path = get_path_Shortest_Path(lines_info,neighbor_info, stations_info, from_station, to_station)\n",
    "    path_Minimum_Transfer = get_path_Minimum_Transfer(lines_info,neighbor_info, stations_info, from_station, to_station)\n",
    "    path_Comprehensive = get_path_Comprehensive(lines_info,neighbor_info,stations_info,from_station,to_station)\n",
    "    dict_BFS = collection_dict(path_BFS,'BFS')\n",
    "    dict_Astar = collection_dict(path_Astar,'Astar')\n",
    "    dict_Shortest_Path = collection_dict(path_Shortest_Path,'Shortest_Path')\n",
    "    dict_Minimum_Transfer = collection_dict(path_Minimum_Transfer,'Minimum_Transfer')\n",
    "    dict_Comprehensive = collection_dict(path_Comprehensive,'Comprehensive')\n",
    "    return dict_BFS,dict_Astar,dict_Minimum_Transfer,dict_Shortest_Path,dict_Comprehensive"
   ]
  },
  {
   "cell_type": "code",
   "execution_count": 118,
   "metadata": {},
   "outputs": [
    {
     "data": {
      "text/plain": [
       "({'strategy_name': 'BFS',\n",
       "  'distance': 11.745804783103985,\n",
       "  'transfer_num': 3,\n",
       "  'station_num': 13},\n",
       " {'strategy_name': 'Astar',\n",
       "  'distance': 11.918164107459237,\n",
       "  'transfer_num': 3,\n",
       "  'station_num': 14},\n",
       " {'strategy_name': 'Minimum_Transfer',\n",
       "  'distance': 12.028634537274339,\n",
       "  'transfer_num': 1,\n",
       "  'station_num': 14},\n",
       " {'strategy_name': 'Shortest_Path',\n",
       "  'distance': 11.73472648997079,\n",
       "  'transfer_num': 4,\n",
       "  'station_num': 14},\n",
       " {'strategy_name': 'Comprehensive',\n",
       "  'distance': 12.017556244141144,\n",
       "  'transfer_num': 1,\n",
       "  'station_num': 15})"
      ]
     },
     "execution_count": 118,
     "metadata": {},
     "output_type": "execute_result"
    }
   ],
   "source": [
    "get_path_collection(lines_info,neighbor_info,stations_info,'前门','中关村')"
   ]
  },
  {
   "cell_type": "code",
   "execution_count": null,
   "metadata": {},
   "outputs": [],
   "source": []
  }
 ],
 "metadata": {
  "kernelspec": {
   "display_name": "Python 3",
   "language": "python",
   "name": "python3"
  },
  "language_info": {
   "codemirror_mode": {
    "name": "ipython",
    "version": 3
   },
   "file_extension": ".py",
   "mimetype": "text/x-python",
   "name": "python",
   "nbconvert_exporter": "python",
   "pygments_lexer": "ipython3",
   "version": "3.7.4"
  }
 },
 "nbformat": 4,
 "nbformat_minor": 4
}
